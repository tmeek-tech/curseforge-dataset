{
 "cells": [
  {
   "cell_type": "code",
   "execution_count": null,
   "metadata": {},
   "outputs": [],
   "source": [
    "import pandas as pd\n",
    "from selenium import webdriver\n",
    "from webdriver_manager.chrome import ChromeDriverManager\n",
    "from selenium.webdriver.common.by import By\n",
    "import requests\n",
    "from selenium.webdriver.chrome.options import Options"
   ]
  },
  {
   "cell_type": "code",
   "execution_count": null,
   "metadata": {},
   "outputs": [],
   "source": [
    "#get the urls of the first n pages\n",
    "n = 10\n",
    "page_list = ['https://www.curseforge.com/minecraft/modpacks?page=' + str(b+1) for b in range(n)]\n",
    "page_list"
   ]
  },
  {
   "cell_type": "code",
   "execution_count": null,
   "metadata": {},
   "outputs": [],
   "source": [
    "#get the urls of every modpack on the first n pages\n",
    "options = Options()\n",
    "options.page_load_strategy = 'eager'\n",
    "driver = webdriver.Chrome(ChromeDriverManager().install(), options=options)\n",
    "modpacks = []\n",
    "for url in page_list:\n",
    "    driver.get(url)\n",
    "    for modpack in driver.find_elements(by=By.CLASS_NAME, value='project-listing-row'):\n",
    "        modpack_url = modpack.find_elements(by=By.CLASS_NAME, value='my-auto')[0].get_attribute('href')\n",
    "        modpacks.append(modpack_url)\n",
    "driver.quit()\n",
    "modpacks"
   ]
  },
  {
   "cell_type": "code",
   "execution_count": null,
   "metadata": {},
   "outputs": [],
   "source": [
    "#for each modpack, get the number of downloads, version number, and number of pages needed to list the dependencies\n",
    "options = Options()\n",
    "options.page_load_strategy = 'eager'\n",
    "driver = webdriver.Chrome(ChromeDriverManager().install(), options=options)\n",
    "\n",
    "modpack_mods = []\n",
    "for url in modpacks:\n",
    "    driver.get(url + '/relations/dependencies')\n",
    "    game_version = driver.find_elements(by=By.CLASS_NAME, value='text-gray-500')[2].text.split(' ')[2]\n",
    "    downloads = driver.find_elements(by=By.CLASS_NAME, value='text-gray-500')[0].text.split(' ')[0]\n",
    "    page_numbers = driver.find_elements(by=By.CLASS_NAME, value='pagination-top')\n",
    "    if len(page_numbers) == 0:\n",
    "        num_pages = 1\n",
    "    else:\n",
    "        num_pages = int(page_numbers[0].find_elements(by=By.CLASS_NAME, value='text-primary-500')[-1].text)\n",
    "    mods = []\n",
    "    modpack_mods.append({'url':url, 'game_version':game_version, 'total_downloads':downloads, 'num_pages':num_pages})\n",
    "driver.close()\n",
    "\n",
    "modpack_mods_df = pd.DataFrame(modpack_mods)\n",
    "modpack_mods_df"
   ]
  },
  {
   "cell_type": "code",
   "execution_count": null,
   "metadata": {},
   "outputs": [],
   "source": [
    "modpack_mods_df['game_version'].value_counts().plot(kind=\"bar\")"
   ]
  },
  {
   "cell_type": "code",
   "execution_count": null,
   "metadata": {},
   "outputs": [],
   "source": [
    "#find a list of every mod in each modpack (takes a long time)\n",
    "options = Options()\n",
    "options.page_load_strategy = 'eager'\n",
    "driver = webdriver.Chrome(ChromeDriverManager().install(), options=options)\n",
    "\n",
    "for modpack in modpack_mods:\n",
    "    pages = [modpack['url'] + '/relations/dependencies?page=' + str(b+1) for b in range(modpack['num_pages'])]\n",
    "    mods = []\n",
    "    for page in pages:\n",
    "        driver.get(page)\n",
    "        mods.extend([b.find_elements(by=By.TAG_NAME, value='a')[0].get_attribute('href') for b in driver.find_elements(by=By.CLASS_NAME, value='project-listing-row')])\n",
    "    #print(mods)\n",
    "    modpack.update({'mods':mods})\n",
    "\n",
    "driver.close()\n",
    "\n",
    "modpack_mods_df = pd.DataFrame(modpack_mods)\n",
    "modpack_mods_df"
   ]
  },
  {
   "cell_type": "code",
   "execution_count": null,
   "metadata": {},
   "outputs": [],
   "source": [
    "modpack_mods_df['mods'].mask(modpack_mods_df['mods'].isna(), 'incomplete').where(modpack_mods_df['mods'].isna(), 'complete').value_counts().plot(kind=\"bar\")"
   ]
  },
  {
   "cell_type": "code",
   "execution_count": null,
   "metadata": {},
   "outputs": [],
   "source": [
    "modpack_mods_df.to_csv('modpacks.csv')"
   ]
  },
  {
   "cell_type": "code",
   "execution_count": null,
   "metadata": {},
   "outputs": [],
   "source": [
    "mod_url = ['https://www.curseforge.com/minecraft/mc-mods/kubejs', 'https://www.curseforge.com/minecraft/mc-mods/mekanism', 'https://www.curseforge.com/minecraft/mc-mods/pneumaticcraft-repressurized']\n",
    "[b['url'] + ' version: ' + b['game_version']  for b in modpack_mods if 'mods' in b.keys() and set(mod_url) == set(mod_url) & set(b['mods'])]\n"
   ]
  }
 ],
 "metadata": {
  "kernelspec": {
   "display_name": "Python 3.10.6 64-bit",
   "language": "python",
   "name": "python3"
  },
  "language_info": {
   "codemirror_mode": {
    "name": "ipython",
    "version": 3
   },
   "file_extension": ".py",
   "mimetype": "text/x-python",
   "name": "python",
   "nbconvert_exporter": "python",
   "pygments_lexer": "ipython3",
   "version": "3.10.6"
  },
  "orig_nbformat": 4,
  "vscode": {
   "interpreter": {
    "hash": "de60e2f6375be0ac4fdf2399d4efd43fa8926e18e42ed35b8db7e2a79933e5ab"
   }
  }
 },
 "nbformat": 4,
 "nbformat_minor": 2
}
